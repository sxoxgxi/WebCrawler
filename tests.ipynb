{
 "cells": [
  {
   "cell_type": "code",
   "execution_count": 1,
   "metadata": {},
   "outputs": [
    {
     "name": "stdout",
     "output_type": "stream",
     "text": [
      "HTTPSConnectionPool(host='otakujin.com', port=443): Read timed out. (read timeout=None)\n"
     ]
    }
   ],
   "source": [
    "import requests\n",
    "\n",
    "headers = {\n",
    "    'user-agent': 'Mozilla/5.0 (X11; Ubuntu; Linux x86_64; rv:15.0) Gecko/20100101 Firefox/15.0.1',\n",
    "    'Accept-language': 'en-US',\n",
    "    'Referer': 'https://google.com',\n",
    "    'DNT': '1'\n",
    "}\n",
    "def checking(url: str) -> str:\n",
    "    try:\n",
    "        response = requests.get(url, headers=headers)\n",
    "    except Exception as uwu:\n",
    "        return uwu\n",
    "    head = response.headers\n",
    "    if head['Content-Type'].__contains__(\"text/html\"):\n",
    "        return \"yes it contains\"\n",
    "    else:\n",
    "        return \"it does not contains\"\n",
    "\n"
   ]
  },
  {
   "cell_type": "code",
   "execution_count": 6,
   "metadata": {},
   "outputs": [
    {
     "name": "stdout",
     "output_type": "stream",
     "text": [
      "otakujin\n"
     ]
    }
   ],
   "source": [
    "from urllib.parse import urlparse\n",
    "\n",
    "def domain(url: str) -> str:\n",
    "    try:\n",
    "        res = sub_domain(url)\n",
    "        raw_output = res.split('.')\n",
    "        output = f\"{raw_output[-2]}.{raw_output[-1]}\"\n",
    "        return output\n",
    "    except Exception as uwu:\n",
    "        return \"\"\n",
    "\n",
    "\n",
    "def sub_domain(url: str) -> str:\n",
    "    try:\n",
    "        return urlparse(url).netloc\n",
    "    except Exception as uwu:\n",
    "        return \"\"\n"
   ]
  },
  {
   "cell_type": "code",
   "execution_count": 1,
   "metadata": {},
   "outputs": [
    {
     "ename": "NameError",
     "evalue": "name 'domain' is not defined",
     "output_type": "error",
     "traceback": [
      "\u001b[1;31m---------------------------------------------------------------------------\u001b[0m",
      "\u001b[1;31mNameError\u001b[0m                                 Traceback (most recent call last)",
      "\u001b[1;32md:\\Projects\\Side Projects\\Crawler\\tests.ipynb Cell 3'\u001b[0m in \u001b[0;36m<cell line: 2>\u001b[1;34m()\u001b[0m\n\u001b[0;32m      <a href='vscode-notebook-cell:/d%3A/Projects/Side%20Projects/Crawler/tests.ipynb#ch0000002?line=0'>1</a>\u001b[0m url \u001b[39m=\u001b[39m \u001b[39m\"\u001b[39m\u001b[39mhttps://uuwu.fhfhsf.otakujin.net/fhsfifohf.sfhfhsfh\u001b[39m\u001b[39m\"\u001b[39m\n\u001b[1;32m----> <a href='vscode-notebook-cell:/d%3A/Projects/Side%20Projects/Crawler/tests.ipynb#ch0000002?line=1'>2</a>\u001b[0m new_url \u001b[39m=\u001b[39m domain(url)\n\u001b[0;32m      <a href='vscode-notebook-cell:/d%3A/Projects/Side%20Projects/Crawler/tests.ipynb#ch0000002?line=2'>3</a>\u001b[0m \u001b[39mprint\u001b[39m(new_url)\n",
      "\u001b[1;31mNameError\u001b[0m: name 'domain' is not defined"
     ]
    }
   ],
   "source": [
    "# url = \"https://uuwu.fhfhsf.otakujin.net/fhsfifohf.sfhfhsfh\"\n",
    "url = \"https://otakujin.com\"\n",
    "\n",
    "new_url = domain(url)\n",
    "print(new_url)\n",
    "print(checking(url))\n"
   ]
  }
 ],
 "metadata": {
  "interpreter": {
   "hash": "b6d0873a575b3298bfaa4c869b6952c6690c2181f36d155653f6f697a98f7675"
  },
  "kernelspec": {
   "display_name": "Python 3.10.4 ('env': venv)",
   "language": "python",
   "name": "python3"
  },
  "language_info": {
   "codemirror_mode": {
    "name": "ipython",
    "version": 3
   },
   "file_extension": ".py",
   "mimetype": "text/x-python",
   "name": "python",
   "nbconvert_exporter": "python",
   "pygments_lexer": "ipython3",
   "version": "3.10.4"
  },
  "orig_nbformat": 4
 },
 "nbformat": 4,
 "nbformat_minor": 2
}
